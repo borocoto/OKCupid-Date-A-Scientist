{
 "cells": [
  {
   "cell_type": "markdown",
   "metadata": {},
   "source": [
    "# Introduction\n",
    "This project analyzes data from on-line dating application OKCupid.\n",
    "The goal of this project is to scope, prep, analyze data, and create a machine learning model.\n",
    "\n",
    "#### Project Goals\n",
    "According to the data, many users (23.49%) have not input their drug usage status, but it might be important for people to match a person with a similar lifestyle. The goal of this project is to find out whether it can be predicted if a certain user consumes drugs so this could be used to get better matches in future.\n",
    "\n",
    "#### Data\n",
    "The project has one dataset called profiles.csv provided by Codecademy. In the data, each row represents an OkCupid user and the columns are the responses to their user profiles which include multi-choice and short answer questions.\n",
    "\n",
    "#### Analysis\n",
    "This proect will use descriptive statistics and data visualization to find key figures in understanding the distribution, count, and relationship between variables. Since the goal of the project is to make predictions on the user's drug usage, classification algorithms from the supervised learning family of machine learning models will be implemented.\n",
    "\n",
    "#### Evaluation\n",
    "The project will conclude with the evaluation of the machine learning model selected with a validation data set. The output of the predictions can be checked through accuracy, precision, recall and F1 scores."
   ]
  },
  {
   "cell_type": "markdown",
   "metadata": {},
   "source": [
    "### Loading the Data\n",
    "Loading and examining the data:"
   ]
  },
  {
   "cell_type": "code",
   "execution_count": 1,
   "metadata": {},
   "outputs": [],
   "source": [
    "import pandas as pd\n",
    "import numpy as np\n",
    "import matplotlib.pyplot as plt\n",
    "import seaborn as sns"
   ]
  },
  {
   "cell_type": "code",
   "execution_count": 2,
   "metadata": {},
   "outputs": [
    {
     "data": {
      "text/html": [
       "<div>\n",
       "<style scoped>\n",
       "    .dataframe tbody tr th:only-of-type {\n",
       "        vertical-align: middle;\n",
       "    }\n",
       "\n",
       "    .dataframe tbody tr th {\n",
       "        vertical-align: top;\n",
       "    }\n",
       "\n",
       "    .dataframe thead th {\n",
       "        text-align: right;\n",
       "    }\n",
       "</style>\n",
       "<table border=\"1\" class=\"dataframe\">\n",
       "  <thead>\n",
       "    <tr style=\"text-align: right;\">\n",
       "      <th></th>\n",
       "      <th>age</th>\n",
       "      <th>body_type</th>\n",
       "      <th>diet</th>\n",
       "      <th>drinks</th>\n",
       "      <th>drugs</th>\n",
       "      <th>education</th>\n",
       "      <th>essay0</th>\n",
       "      <th>essay1</th>\n",
       "      <th>essay2</th>\n",
       "      <th>essay3</th>\n",
       "      <th>...</th>\n",
       "      <th>location</th>\n",
       "      <th>offspring</th>\n",
       "      <th>orientation</th>\n",
       "      <th>pets</th>\n",
       "      <th>religion</th>\n",
       "      <th>sex</th>\n",
       "      <th>sign</th>\n",
       "      <th>smokes</th>\n",
       "      <th>speaks</th>\n",
       "      <th>status</th>\n",
       "    </tr>\n",
       "  </thead>\n",
       "  <tbody>\n",
       "    <tr>\n",
       "      <th>0</th>\n",
       "      <td>22</td>\n",
       "      <td>a little extra</td>\n",
       "      <td>strictly anything</td>\n",
       "      <td>socially</td>\n",
       "      <td>never</td>\n",
       "      <td>working on college/university</td>\n",
       "      <td>about me:&lt;br /&gt;\\n&lt;br /&gt;\\ni would love to think...</td>\n",
       "      <td>currently working as an international agent fo...</td>\n",
       "      <td>making people laugh.&lt;br /&gt;\\nranting about a go...</td>\n",
       "      <td>the way i look. i am a six foot half asian, ha...</td>\n",
       "      <td>...</td>\n",
       "      <td>south san francisco, california</td>\n",
       "      <td>doesn&amp;rsquo;t have kids, but might want them</td>\n",
       "      <td>straight</td>\n",
       "      <td>likes dogs and likes cats</td>\n",
       "      <td>agnosticism and very serious about it</td>\n",
       "      <td>m</td>\n",
       "      <td>gemini</td>\n",
       "      <td>sometimes</td>\n",
       "      <td>english</td>\n",
       "      <td>single</td>\n",
       "    </tr>\n",
       "    <tr>\n",
       "      <th>1</th>\n",
       "      <td>35</td>\n",
       "      <td>average</td>\n",
       "      <td>mostly other</td>\n",
       "      <td>often</td>\n",
       "      <td>sometimes</td>\n",
       "      <td>working on space camp</td>\n",
       "      <td>i am a chef: this is what that means.&lt;br /&gt;\\n1...</td>\n",
       "      <td>dedicating everyday to being an unbelievable b...</td>\n",
       "      <td>being silly. having ridiculous amonts of fun w...</td>\n",
       "      <td>NaN</td>\n",
       "      <td>...</td>\n",
       "      <td>oakland, california</td>\n",
       "      <td>doesn&amp;rsquo;t have kids, but might want them</td>\n",
       "      <td>straight</td>\n",
       "      <td>likes dogs and likes cats</td>\n",
       "      <td>agnosticism but not too serious about it</td>\n",
       "      <td>m</td>\n",
       "      <td>cancer</td>\n",
       "      <td>no</td>\n",
       "      <td>english (fluently), spanish (poorly), french (...</td>\n",
       "      <td>single</td>\n",
       "    </tr>\n",
       "    <tr>\n",
       "      <th>2</th>\n",
       "      <td>38</td>\n",
       "      <td>thin</td>\n",
       "      <td>anything</td>\n",
       "      <td>socially</td>\n",
       "      <td>NaN</td>\n",
       "      <td>graduated from masters program</td>\n",
       "      <td>i'm not ashamed of much, but writing public te...</td>\n",
       "      <td>i make nerdy software for musicians, artists, ...</td>\n",
       "      <td>improvising in different contexts. alternating...</td>\n",
       "      <td>my large jaw and large glasses are the physica...</td>\n",
       "      <td>...</td>\n",
       "      <td>san francisco, california</td>\n",
       "      <td>NaN</td>\n",
       "      <td>straight</td>\n",
       "      <td>has cats</td>\n",
       "      <td>NaN</td>\n",
       "      <td>m</td>\n",
       "      <td>pisces but it doesn&amp;rsquo;t matter</td>\n",
       "      <td>no</td>\n",
       "      <td>english, french, c++</td>\n",
       "      <td>available</td>\n",
       "    </tr>\n",
       "    <tr>\n",
       "      <th>3</th>\n",
       "      <td>23</td>\n",
       "      <td>thin</td>\n",
       "      <td>vegetarian</td>\n",
       "      <td>socially</td>\n",
       "      <td>NaN</td>\n",
       "      <td>working on college/university</td>\n",
       "      <td>i work in a library and go to school. . .</td>\n",
       "      <td>reading things written by old dead people</td>\n",
       "      <td>playing synthesizers and organizing books acco...</td>\n",
       "      <td>socially awkward but i do my best</td>\n",
       "      <td>...</td>\n",
       "      <td>berkeley, california</td>\n",
       "      <td>doesn&amp;rsquo;t want kids</td>\n",
       "      <td>straight</td>\n",
       "      <td>likes cats</td>\n",
       "      <td>NaN</td>\n",
       "      <td>m</td>\n",
       "      <td>pisces</td>\n",
       "      <td>no</td>\n",
       "      <td>english, german (poorly)</td>\n",
       "      <td>single</td>\n",
       "    </tr>\n",
       "    <tr>\n",
       "      <th>4</th>\n",
       "      <td>29</td>\n",
       "      <td>athletic</td>\n",
       "      <td>NaN</td>\n",
       "      <td>socially</td>\n",
       "      <td>never</td>\n",
       "      <td>graduated from college/university</td>\n",
       "      <td>hey how's it going? currently vague on the pro...</td>\n",
       "      <td>work work work work + play</td>\n",
       "      <td>creating imagery to look at:&lt;br /&gt;\\nhttp://bag...</td>\n",
       "      <td>i smile a lot and my inquisitive nature</td>\n",
       "      <td>...</td>\n",
       "      <td>san francisco, california</td>\n",
       "      <td>NaN</td>\n",
       "      <td>straight</td>\n",
       "      <td>likes dogs and likes cats</td>\n",
       "      <td>NaN</td>\n",
       "      <td>m</td>\n",
       "      <td>aquarius</td>\n",
       "      <td>no</td>\n",
       "      <td>english</td>\n",
       "      <td>single</td>\n",
       "    </tr>\n",
       "  </tbody>\n",
       "</table>\n",
       "<p>5 rows × 31 columns</p>\n",
       "</div>"
      ],
      "text/plain": [
       "   age       body_type               diet    drinks      drugs  \\\n",
       "0   22  a little extra  strictly anything  socially      never   \n",
       "1   35         average       mostly other     often  sometimes   \n",
       "2   38            thin           anything  socially        NaN   \n",
       "3   23            thin         vegetarian  socially        NaN   \n",
       "4   29        athletic                NaN  socially      never   \n",
       "\n",
       "                           education  \\\n",
       "0      working on college/university   \n",
       "1              working on space camp   \n",
       "2     graduated from masters program   \n",
       "3      working on college/university   \n",
       "4  graduated from college/university   \n",
       "\n",
       "                                              essay0  \\\n",
       "0  about me:<br />\\n<br />\\ni would love to think...   \n",
       "1  i am a chef: this is what that means.<br />\\n1...   \n",
       "2  i'm not ashamed of much, but writing public te...   \n",
       "3          i work in a library and go to school. . .   \n",
       "4  hey how's it going? currently vague on the pro...   \n",
       "\n",
       "                                              essay1  \\\n",
       "0  currently working as an international agent fo...   \n",
       "1  dedicating everyday to being an unbelievable b...   \n",
       "2  i make nerdy software for musicians, artists, ...   \n",
       "3          reading things written by old dead people   \n",
       "4                         work work work work + play   \n",
       "\n",
       "                                              essay2  \\\n",
       "0  making people laugh.<br />\\nranting about a go...   \n",
       "1  being silly. having ridiculous amonts of fun w...   \n",
       "2  improvising in different contexts. alternating...   \n",
       "3  playing synthesizers and organizing books acco...   \n",
       "4  creating imagery to look at:<br />\\nhttp://bag...   \n",
       "\n",
       "                                              essay3  ...  \\\n",
       "0  the way i look. i am a six foot half asian, ha...  ...   \n",
       "1                                                NaN  ...   \n",
       "2  my large jaw and large glasses are the physica...  ...   \n",
       "3                  socially awkward but i do my best  ...   \n",
       "4            i smile a lot and my inquisitive nature  ...   \n",
       "\n",
       "                          location  \\\n",
       "0  south san francisco, california   \n",
       "1              oakland, california   \n",
       "2        san francisco, california   \n",
       "3             berkeley, california   \n",
       "4        san francisco, california   \n",
       "\n",
       "                                      offspring orientation  \\\n",
       "0  doesn&rsquo;t have kids, but might want them    straight   \n",
       "1  doesn&rsquo;t have kids, but might want them    straight   \n",
       "2                                           NaN    straight   \n",
       "3                       doesn&rsquo;t want kids    straight   \n",
       "4                                           NaN    straight   \n",
       "\n",
       "                        pets                                  religion sex  \\\n",
       "0  likes dogs and likes cats     agnosticism and very serious about it   m   \n",
       "1  likes dogs and likes cats  agnosticism but not too serious about it   m   \n",
       "2                   has cats                                       NaN   m   \n",
       "3                 likes cats                                       NaN   m   \n",
       "4  likes dogs and likes cats                                       NaN   m   \n",
       "\n",
       "                                 sign     smokes  \\\n",
       "0                              gemini  sometimes   \n",
       "1                              cancer         no   \n",
       "2  pisces but it doesn&rsquo;t matter         no   \n",
       "3                              pisces         no   \n",
       "4                            aquarius         no   \n",
       "\n",
       "                                              speaks     status  \n",
       "0                                            english     single  \n",
       "1  english (fluently), spanish (poorly), french (...     single  \n",
       "2                               english, french, c++  available  \n",
       "3                           english, german (poorly)     single  \n",
       "4                                            english     single  \n",
       "\n",
       "[5 rows x 31 columns]"
      ]
     },
     "execution_count": 2,
     "metadata": {},
     "output_type": "execute_result"
    }
   ],
   "source": [
    "data = pd.read_csv('profiles.csv')\n",
    "data.head()"
   ]
  },
  {
   "cell_type": "code",
   "execution_count": 3,
   "metadata": {},
   "outputs": [
    {
     "name": "stdout",
     "output_type": "stream",
     "text": [
      "<class 'pandas.core.frame.DataFrame'>\n",
      "RangeIndex: 59946 entries, 0 to 59945\n",
      "Data columns (total 31 columns):\n",
      " #   Column       Non-Null Count  Dtype  \n",
      "---  ------       --------------  -----  \n",
      " 0   age          59946 non-null  int64  \n",
      " 1   body_type    54650 non-null  object \n",
      " 2   diet         35551 non-null  object \n",
      " 3   drinks       56961 non-null  object \n",
      " 4   drugs        45866 non-null  object \n",
      " 5   education    53318 non-null  object \n",
      " 6   essay0       54458 non-null  object \n",
      " 7   essay1       52374 non-null  object \n",
      " 8   essay2       50308 non-null  object \n",
      " 9   essay3       48470 non-null  object \n",
      " 10  essay4       49409 non-null  object \n",
      " 11  essay5       49096 non-null  object \n",
      " 12  essay6       46175 non-null  object \n",
      " 13  essay7       47495 non-null  object \n",
      " 14  essay8       40721 non-null  object \n",
      " 15  essay9       47343 non-null  object \n",
      " 16  ethnicity    54266 non-null  object \n",
      " 17  height       59943 non-null  float64\n",
      " 18  income       59946 non-null  int64  \n",
      " 19  job          51748 non-null  object \n",
      " 20  last_online  59946 non-null  object \n",
      " 21  location     59946 non-null  object \n",
      " 22  offspring    24385 non-null  object \n",
      " 23  orientation  59946 non-null  object \n",
      " 24  pets         40025 non-null  object \n",
      " 25  religion     39720 non-null  object \n",
      " 26  sex          59946 non-null  object \n",
      " 27  sign         48890 non-null  object \n",
      " 28  smokes       54434 non-null  object \n",
      " 29  speaks       59896 non-null  object \n",
      " 30  status       59946 non-null  object \n",
      "dtypes: float64(1), int64(2), object(28)\n",
      "memory usage: 14.2+ MB\n"
     ]
    }
   ],
   "source": [
    "data.info()"
   ]
  },
  {
   "cell_type": "markdown",
   "metadata": {},
   "source": [
    "# Exploring the Data"
   ]
  },
  {
   "cell_type": "markdown",
   "metadata": {},
   "source": [
    "After exploring the dataset, eight features were selected to build a model. The rest of the features were dropped due to the reasons of heterogeneity, lack of information or little variance. The target is 'drugs' column, which contains three unique options: 'often', 'sometimes' and 'never'.\n",
    "The null values in the 'job' column were filled with 'rather not say', which is semantically identical."
   ]
  },
  {
   "cell_type": "code",
   "execution_count": 4,
   "metadata": {},
   "outputs": [
    {
     "name": "stderr",
     "output_type": "stream",
     "text": [
      "C:\\Users\\user\\anaconda3\\lib\\site-packages\\pandas\\core\\generic.py:5516: SettingWithCopyWarning: \n",
      "A value is trying to be set on a copy of a slice from a DataFrame.\n",
      "Try using .loc[row_indexer,col_indexer] = value instead\n",
      "\n",
      "See the caveats in the documentation: https://pandas.pydata.org/pandas-docs/stable/user_guide/indexing.html#returning-a-view-versus-a-copy\n",
      "  self[name] = value\n"
     ]
    }
   ],
   "source": [
    "drugs_data = data[['age', 'body_type', 'drinks', 'orientation', 'job', 'sex', 'smokes', 'status', 'drugs']]\n",
    "drugs_data.job = drugs_data.job.fillna('rather not say')"
   ]
  },
  {
   "cell_type": "markdown",
   "metadata": {},
   "source": [
    "### Drugs and Age\n",
    "The following plot shows the distribution af age among three groups of the users classified by frequency of drug usage. The median age of those who often consume drugs (25 y.o.) is less than of those who never consume drugs (30 y.o.)."
   ]
  },
  {
   "cell_type": "code",
   "execution_count": 5,
   "metadata": {},
   "outputs": [
    {
     "data": {
      "image/png": "[encoded data removed]",
      "text/plain": [
       "<Figure size 720x432 with 1 Axes>"
      ]
     },
     "metadata": {
      "needs_background": "light"
     },
     "output_type": "display_data"
    }
   ],
   "source": [
    "plt.figure(figsize=(10, 6))\n",
    "my_pal = {'never': 'palegoldenrod', 'sometimes': 'palegreen', 'often': 'seagreen'}\n",
    "sns.set(style=\"whitegrid\")\n",
    "ax = sns.violinplot(data=drugs_data, x='age', y='drugs', palette=my_pal)\n",
    "ax.set_xticks(np.arange(15, 85, 5))\n",
    "ax.set_xticklabels(np.arange(15, 85, 5), fontsize=12)\n",
    "ax.set_yticklabels(['never', 'sometimes', 'often'], fontsize=13)\n",
    "plt.xlabel('age', fontsize=20)\n",
    "plt.ylabel('drugs consuming', fontsize=20)\n",
    "plt.xlim(right=80)\n",
    "plt.show()\n",
    "plt.close()"
   ]
  },
  {
   "cell_type": "code",
   "execution_count": 6,
   "metadata": {},
   "outputs": [
    {
     "name": "stdout",
     "output_type": "stream",
     "text": [
      "Medians:\n",
      "often 25.0\n",
      "sometimes 28.0\n",
      "never 30.0\n"
     ]
    }
   ],
   "source": [
    "print('Medians:')\n",
    "print('often', np.median(drugs_data.age[drugs_data.drugs == 'often']))\n",
    "print('sometimes', np.median(drugs_data.age[drugs_data.drugs == 'sometimes']))\n",
    "print('never', np.median(drugs_data.age[drugs_data.drugs == 'never']))"
   ]
  },
  {
   "cell_type": "markdown",
   "metadata": {},
   "source": [
    "### Drugs and Gender\n",
    "The next plot shows the distribution of gender. Among users who often consume drugs, males significantly prevail over females (69% and 31% respectively). Among those who never consume drugs, the difference is not so sharp (58% and 42% respectively)."
   ]
  },
  {
   "cell_type": "code",
   "execution_count": 7,
   "metadata": {},
   "outputs": [
    {
     "data": {
      "image/png": "[encoded data removed]",
      "text/plain": [
       "<Figure size 792x432 with 1 Axes>"
      ]
     },
     "metadata": {},
     "output_type": "display_data"
    }
   ],
   "source": [
    "labels = ['Men', 'Women']\n",
    "x = np.arange(len(labels))\n",
    "width = 0.2\n",
    "often_sex = round((drugs_data.sex[drugs_data.drugs == 'often'].value_counts(normalize=True))*100, 2)\n",
    "sometimes_sex = round((drugs_data.sex[drugs_data.drugs == 'sometimes'].value_counts(normalize=True))*100, 2)\n",
    "never_sex = round((drugs_data.sex[drugs_data.drugs == 'never'].value_counts(normalize=True))*100, 2)\n",
    "\n",
    "fig, ax = plt.subplots(figsize=(11, 6))\n",
    "rects1 = ax.bar(x - width, often_sex, width, label='Often', color='seagreen')\n",
    "rects2 = ax.bar(x, sometimes_sex, width, label='Sometimes', color='palegreen')\n",
    "rects3 = ax.bar(x + width, never_sex, width, label='Never', color='palegoldenrod')\n",
    "ax.set_ylabel('percentage', fontsize=14)\n",
    "ax.set_title('Drugs Consuming by Gender', fontsize=18)\n",
    "ax.grid(False)\n",
    "ax.set_xticks(x)\n",
    "ax.set_yticks(np.arange(0, 80, 10))\n",
    "ax.set_xticklabels(['male', 'female'], fontsize=14)\n",
    "for container in ax.containers:\n",
    "    ax.bar_label(container)\n",
    "ax.legend()\n",
    "plt.show()\n",
    "fig.tight_layout()\n",
    "plt.close()"
   ]
  },
  {
   "cell_type": "markdown",
   "metadata": {},
   "source": [
    "### Drugs and Drinking\n",
    "The following plot displays the distribution of drinking habits among three groups of the users. People who never consume drugs tend to drink less than those who consume drugs often. Percent of people drinking 'socially', 'rarely' or 'not at all' is higher among those who never consumes drugs. At the same time percent of people drinking 'often', 'very often' and 'desperately' is dramatically higher among users who often consume drugs comparing to those who never consume drugs."
   ]
  },
  {
   "cell_type": "code",
   "execution_count": 8,
   "metadata": {},
   "outputs": [
    {
     "data": {
      "image/png": "[encoded data removed]",
      "text/plain": [
       "<Figure size 864x432 with 1 Axes>"
      ]
     },
     "metadata": {},
     "output_type": "display_data"
    }
   ],
   "source": [
    "labels = ['not at all', 'rarely', 'socially', 'often', 'very often', 'desperately']\n",
    "x = np.arange(len(labels))\n",
    "width = 0.2\n",
    "\n",
    "often_drinks = round((drugs_data.drinks[drugs_data.drugs == 'often'].value_counts(normalize=True))*100, 2)\n",
    "sometimes_drinks = round((drugs_data.drinks[drugs_data.drugs == 'sometimes'].value_counts(normalize=True))*100, 2)\n",
    "never_drinks = round((drugs_data.drinks[drugs_data.drugs == 'never'].value_counts(normalize=True))*100, 2)\n",
    "\n",
    "often_drinks_sorted = []\n",
    "sometimes_drinks_sorted = []\n",
    "never_drinks_sorted = []\n",
    "for label in labels:\n",
    "    often_drinks_sorted.append(often_drinks[label])\n",
    "    sometimes_drinks_sorted.append(sometimes_drinks[label])\n",
    "    never_drinks_sorted.append(never_drinks[label])\n",
    "\n",
    "fig, ax = plt.subplots(figsize=(12, 6))\n",
    "rects1 = ax.bar(x - width, often_drinks_sorted, width, label='Often', color='seagreen')\n",
    "rects2 = ax.bar(x, sometimes_drinks_sorted, width, label='Sometimes', color='palegreen')\n",
    "rects3 = ax.bar(x + width, never_drinks_sorted, width, label='Never', color='palegoldenrod')\n",
    "ax.set_ylabel('percentage', fontsize=14)\n",
    "ax.set_title('Frequency of Drinking', fontsize=18)\n",
    "ax.grid(False)\n",
    "ax.set_xticks(x)\n",
    "ax.set_yticks(np.arange(0, 80, 10))\n",
    "ax.set_xticklabels(labels, fontsize=14)\n",
    "for container in ax.containers:\n",
    "    ax.bar_label(container)\n",
    "ax.legend()\n",
    "plt.show()\n",
    "fig.tight_layout()\n",
    "plt.close()"
   ]
  },
  {
   "cell_type": "markdown",
   "metadata": {},
   "source": [
    "### Drugs and Smoking\n",
    "The next plot shows the distribution of smoking habits among the users. The majority of people who never consume drugs do not smoke either. Among those who often consume drugs 38% of people smoke, 29% of people do not smoke and the rest smoke from time to time."
   ]
  },
  {
   "cell_type": "code",
   "execution_count": 9,
   "metadata": {},
   "outputs": [
    {
     "data": {
      "image/png": "[encoded data removed]",
      "text/plain": [
       "<Figure size 936x504 with 1 Axes>"
      ]
     },
     "metadata": {},
     "output_type": "display_data"
    }
   ],
   "source": [
    "labels = ['no', 'trying to quit', 'when drinking', 'sometimes', 'yes']\n",
    "x = np.arange(len(labels))\n",
    "width = 0.2\n",
    "\n",
    "often_smokes = round((drugs_data.smokes[drugs_data.drugs == 'often'].value_counts(normalize=True))*100, 2)\n",
    "sometimes_smokes = round((drugs_data.smokes[drugs_data.drugs == 'sometimes'].value_counts(normalize=True))*100, 2)\n",
    "never_smokes = round((drugs_data.smokes[drugs_data.drugs == 'never'].value_counts(normalize=True))*100, 2)\n",
    "\n",
    "often_smokes_sorted = []\n",
    "sometimes_smokes_sorted = []\n",
    "never_smokes_sorted = []\n",
    "for label in labels:\n",
    "    often_smokes_sorted.append(often_smokes[label])\n",
    "    sometimes_smokes_sorted.append(sometimes_smokes[label])\n",
    "    never_smokes_sorted.append(never_smokes[label])\n",
    "    \n",
    "fig, ax = plt.subplots(figsize=(13, 7))\n",
    "rects1 = ax.bar(x - width, often_smokes_sorted, width, label='Often', color='seagreen')\n",
    "rects2 = ax.bar(x, sometimes_smokes_sorted, width, label='Sometimes', color='palegreen')\n",
    "rects3 = ax.bar(x + width, never_smokes_sorted, width, label='Never', color='palegoldenrod')\n",
    "ax.set_ylabel('percentage', fontsize=14)\n",
    "ax.set_title('Frequency of Smoking', fontsize=18)\n",
    "ax.grid(False)\n",
    "ax.set_xticks(x)\n",
    "ax.set_yticks(np.arange(0, 80, 10))\n",
    "ax.set_xticklabels(labels, fontsize=14)\n",
    "for container in ax.containers:\n",
    "    ax.bar_label(container)\n",
    "ax.legend()\n",
    "plt.show()\n",
    "fig.tight_layout()\n",
    "plt.close()"
   ]
  },
  {
   "cell_type": "markdown",
   "metadata": {},
   "source": [
    "### Missing Data\n",
    "Checking for missing data in the dataset:"
   ]
  },
  {
   "cell_type": "code",
   "execution_count": 10,
   "metadata": {
    "scrolled": false
   },
   "outputs": [
    {
     "name": "stdout",
     "output_type": "stream",
     "text": [
      "<class 'pandas.core.frame.DataFrame'>\n",
      "Int64Index: 45866 entries, 0 to 59944\n",
      "Data columns (total 9 columns):\n",
      " #   Column       Non-Null Count  Dtype \n",
      "---  ------       --------------  ----- \n",
      " 0   age          45866 non-null  int64 \n",
      " 1   body_type    42275 non-null  object\n",
      " 2   drinks       44253 non-null  object\n",
      " 3   orientation  45866 non-null  object\n",
      " 4   job          45866 non-null  object\n",
      " 5   sex          45866 non-null  object\n",
      " 6   smokes       43117 non-null  object\n",
      " 7   status       45866 non-null  object\n",
      " 8   drugs        45866 non-null  object\n",
      "dtypes: int64(1), object(8)\n",
      "memory usage: 3.5+ MB\n",
      "<class 'pandas.core.frame.DataFrame'>\n",
      "Int64Index: 14080 entries, 2 to 59945\n",
      "Data columns (total 9 columns):\n",
      " #   Column       Non-Null Count  Dtype \n",
      "---  ------       --------------  ----- \n",
      " 0   age          14080 non-null  int64 \n",
      " 1   body_type    12375 non-null  object\n",
      " 2   drinks       12708 non-null  object\n",
      " 3   orientation  14080 non-null  object\n",
      " 4   job          14080 non-null  object\n",
      " 5   sex          14080 non-null  object\n",
      " 6   smokes       11317 non-null  object\n",
      " 7   status       14080 non-null  object\n",
      " 8   drugs        0 non-null      object\n",
      "dtypes: int64(1), object(8)\n",
      "memory usage: 1.1+ MB\n"
     ]
    }
   ],
   "source": [
    "drugs_filled = drugs_data[~drugs_data.drugs.isnull()]\n",
    "drugs_filled.info()\n",
    "drugs_null = drugs_data[drugs_data.drugs.isnull()]\n",
    "drugs_null.info()"
   ]
  },
  {
   "cell_type": "markdown",
   "metadata": {},
   "source": [
    "As shown above, the dataset to be used for prediction ('drugs_null') contains null values. Now it should be checked if they are missing at random or not."
   ]
  },
  {
   "cell_type": "code",
   "execution_count": 11,
   "metadata": {
    "scrolled": false
   },
   "outputs": [
    {
     "name": "stdout",
     "output_type": "stream",
     "text": [
      "never        0.822483\n",
      "sometimes    0.168578\n",
      "often        0.008939\n",
      "Name: drugs, dtype: float64\n",
      "False    0.765122\n",
      "True     0.234878\n",
      "Name: drugs, dtype: float64\n"
     ]
    }
   ],
   "source": [
    "print(drugs_data.drugs.value_counts(normalize=True))\n",
    "print(drugs_data.drugs.isnull().value_counts(normalize=True))"
   ]
  },
  {
   "cell_type": "code",
   "execution_count": 12,
   "metadata": {},
   "outputs": [
    {
     "name": "stdout",
     "output_type": "stream",
     "text": [
      "body_type\n",
      "never        0.805904\n",
      "sometimes    0.186856\n",
      "often        0.007240\n",
      "Name: drugs, dtype: float64\n",
      "False    0.678059\n",
      "True     0.321941\n",
      "Name: drugs, dtype: float64\n",
      "\n",
      "drinks\n",
      "never        0.944203\n",
      "sometimes    0.048977\n",
      "often        0.006820\n",
      "Name: drugs, dtype: float64\n",
      "False    0.540369\n",
      "True     0.459631\n",
      "Name: drugs, dtype: float64\n",
      "\n",
      "smokes\n",
      "never        0.841033\n",
      "sometimes    0.152055\n",
      "often        0.006912\n",
      "Name: drugs, dtype: float64\n",
      "True     0.50127\n",
      "False    0.49873\n",
      "Name: drugs, dtype: float64\n"
     ]
    }
   ],
   "source": [
    "print('body_type')\n",
    "print(drugs_data.drugs[drugs_data.body_type.isnull()].value_counts(normalize=True))\n",
    "print(drugs_data[drugs_data.body_type.isnull()].drugs.isnull().value_counts(normalize=True))\n",
    "print('\\ndrinks')\n",
    "print(drugs_data.drugs[drugs_data.drinks.isnull()].value_counts(normalize=True))\n",
    "print(drugs_data[drugs_data.drinks.isnull()].drugs.isnull().value_counts(normalize=True))\n",
    "print('\\nsmokes')\n",
    "print(drugs_data.drugs[drugs_data.smokes.isnull()].value_counts(normalize=True))\n",
    "print(drugs_data[drugs_data.smokes.isnull()].drugs.isnull().value_counts(normalize=True))"
   ]
  },
  {
   "cell_type": "markdown",
   "metadata": {},
   "source": [
    "Distribution of responses ('often', 'sometimes', 'never') and percent of null values is different depending on the feature where the data is missing and does not coincide with the mean percentage of responses and missing data. This fact means that data is missing not at random at can not be just dropped, so for the purposes of the analysis it will be filled with 'MissingValue'."
   ]
  },
  {
   "cell_type": "code",
   "execution_count": 13,
   "metadata": {},
   "outputs": [
    {
     "name": "stderr",
     "output_type": "stream",
     "text": [
      "C:\\Users\\user\\anaconda3\\lib\\site-packages\\pandas\\core\\frame.py:3641: SettingWithCopyWarning: \n",
      "A value is trying to be set on a copy of a slice from a DataFrame.\n",
      "Try using .loc[row_indexer,col_indexer] = value instead\n",
      "\n",
      "See the caveats in the documentation: https://pandas.pydata.org/pandas-docs/stable/user_guide/indexing.html#returning-a-view-versus-a-copy\n",
      "  self[k1] = value[k2]\n"
     ]
    }
   ],
   "source": [
    "drugs_data[['body_type', 'drinks', 'smokes']] = drugs_data[['body_type', 'drinks', 'smokes']].fillna('MissingValue')\n",
    "drugs_filled = drugs_data[~drugs_data.drugs.isnull()]\n",
    "drugs_null = drugs_data[drugs_data.drugs.isnull()]\n",
    "x = drugs_filled.drop(columns=['drugs'])\n",
    "y = drugs_filled.drugs"
   ]
  },
  {
   "cell_type": "markdown",
   "metadata": {},
   "source": [
    "# Model Building\n",
    "Four different machine learning models is used in this project: Logistic Regression, K-Nearest Neighbors Classifier, Support Vector Classifier and Random Forest Classifier."
   ]
  },
  {
   "cell_type": "code",
   "execution_count": 14,
   "metadata": {},
   "outputs": [],
   "source": [
    "from sklearn.compose import make_column_selector as selector\n",
    "from sklearn.preprocessing import OneHotEncoder, StandardScaler\n",
    "from sklearn.compose import ColumnTransformer\n",
    "from sklearn.pipeline import make_pipeline\n",
    "from sklearn.model_selection import train_test_split\n",
    "from sklearn.linear_model import LogisticRegression\n",
    "from sklearn.neighbors import KNeighborsClassifier\n",
    "from sklearn.svm import SVC\n",
    "from sklearn.ensemble import RandomForestClassifier\n",
    "from sklearn.metrics import classification_report"
   ]
  },
  {
   "cell_type": "code",
   "execution_count": 15,
   "metadata": {},
   "outputs": [],
   "source": [
    "num_col_selector = selector(dtype_exclude=object)\n",
    "cat_col_selector = selector(dtype_include=object)\n",
    "num_columns = num_col_selector(x)\n",
    "cat_columns = cat_col_selector(x)\n",
    "preprocessor = ColumnTransformer([\n",
    "    ('one-hot-encoder', OneHotEncoder(handle_unknown=\"ignore\"), cat_columns), \n",
    "    ('standard-scaler', StandardScaler(), num_columns)])"
   ]
  },
  {
   "cell_type": "code",
   "execution_count": 16,
   "metadata": {},
   "outputs": [],
   "source": [
    "x_train, x_test, y_train, y_test = train_test_split(x, y, test_size=.2)"
   ]
  },
  {
   "cell_type": "markdown",
   "metadata": {},
   "source": [
    "### Logistic Regression"
   ]
  },
  {
   "cell_type": "code",
   "execution_count": 17,
   "metadata": {},
   "outputs": [
    {
     "name": "stdout",
     "output_type": "stream",
     "text": [
      "              precision    recall  f1-score   support\n",
      "\n",
      "       never       0.86      0.97      0.91      7555\n",
      "       often       0.00      0.00      0.00        82\n",
      "   sometimes       0.56      0.23      0.33      1537\n",
      "\n",
      "    accuracy                           0.84      9174\n",
      "   macro avg       0.47      0.40      0.41      9174\n",
      "weighted avg       0.80      0.84      0.80      9174\n",
      "\n"
     ]
    }
   ],
   "source": [
    "model_lr = make_pipeline(preprocessor, LogisticRegression(max_iter=500, multi_class=\"multinomial\")).fit(x_train, y_train)\n",
    "y_pred_lr = model_lr.predict(x_test)\n",
    "print(classification_report(y_test, y_pred_lr))"
   ]
  },
  {
   "cell_type": "markdown",
   "metadata": {},
   "source": [
    "### K-Nearest Neighbors"
   ]
  },
  {
   "cell_type": "code",
   "execution_count": 18,
   "metadata": {},
   "outputs": [
    {
     "name": "stdout",
     "output_type": "stream",
     "text": [
      "              precision    recall  f1-score   support\n",
      "\n",
      "       never       0.85      0.95      0.90      7555\n",
      "       often       0.12      0.01      0.02        82\n",
      "   sometimes       0.46      0.23      0.30      1537\n",
      "\n",
      "    accuracy                           0.82      9174\n",
      "   macro avg       0.48      0.40      0.41      9174\n",
      "weighted avg       0.78      0.82      0.79      9174\n",
      "\n"
     ]
    }
   ],
   "source": [
    "model_knn = make_pipeline(preprocessor, KNeighborsClassifier()).fit(x_train, y_train)\n",
    "y_pred_knn = model_knn.predict(x_test)\n",
    "print(classification_report(y_test, y_pred_knn))"
   ]
  },
  {
   "cell_type": "markdown",
   "metadata": {},
   "source": [
    "### Support Vector Classifier"
   ]
  },
  {
   "cell_type": "code",
   "execution_count": 19,
   "metadata": {
    "scrolled": true
   },
   "outputs": [
    {
     "name": "stdout",
     "output_type": "stream",
     "text": [
      "              precision    recall  f1-score   support\n",
      "\n",
      "       never       0.85      0.97      0.91      7555\n",
      "       often       0.00      0.00      0.00        82\n",
      "   sometimes       0.57      0.20      0.30      1537\n",
      "\n",
      "    accuracy                           0.84      9174\n",
      "   macro avg       0.48      0.39      0.40      9174\n",
      "weighted avg       0.80      0.84      0.80      9174\n",
      "\n"
     ]
    },
    {
     "name": "stderr",
     "output_type": "stream",
     "text": [
      "C:\\Users\\user\\anaconda3\\lib\\site-packages\\sklearn\\metrics\\_classification.py:1334: UndefinedMetricWarning: Precision and F-score are ill-defined and being set to 0.0 in labels with no predicted samples. Use `zero_division` parameter to control this behavior.\n",
      "  _warn_prf(average, modifier, msg_start, len(result))\n",
      "C:\\Users\\user\\anaconda3\\lib\\site-packages\\sklearn\\metrics\\_classification.py:1334: UndefinedMetricWarning: Precision and F-score are ill-defined and being set to 0.0 in labels with no predicted samples. Use `zero_division` parameter to control this behavior.\n",
      "  _warn_prf(average, modifier, msg_start, len(result))\n",
      "C:\\Users\\user\\anaconda3\\lib\\site-packages\\sklearn\\metrics\\_classification.py:1334: UndefinedMetricWarning: Precision and F-score are ill-defined and being set to 0.0 in labels with no predicted samples. Use `zero_division` parameter to control this behavior.\n",
      "  _warn_prf(average, modifier, msg_start, len(result))\n"
     ]
    }
   ],
   "source": [
    "model_svc = make_pipeline(preprocessor, SVC()).fit(x_train, y_train)\n",
    "y_pred_svc = model_svc.predict(x_test)\n",
    "print(classification_report(y_test, y_pred_svc))"
   ]
  },
  {
   "cell_type": "markdown",
   "metadata": {},
   "source": [
    "### Random Forest"
   ]
  },
  {
   "cell_type": "code",
   "execution_count": 20,
   "metadata": {
    "scrolled": true
   },
   "outputs": [
    {
     "name": "stdout",
     "output_type": "stream",
     "text": [
      "              precision    recall  f1-score   support\n",
      "\n",
      "       never       0.85      0.97      0.91      7555\n",
      "       often       0.00      0.00      0.00        82\n",
      "   sometimes       0.57      0.20      0.30      1537\n",
      "\n",
      "    accuracy                           0.84      9174\n",
      "   macro avg       0.48      0.39      0.40      9174\n",
      "weighted avg       0.80      0.84      0.80      9174\n",
      "\n"
     ]
    },
    {
     "name": "stderr",
     "output_type": "stream",
     "text": [
      "C:\\Users\\user\\anaconda3\\lib\\site-packages\\sklearn\\metrics\\_classification.py:1334: UndefinedMetricWarning: Precision and F-score are ill-defined and being set to 0.0 in labels with no predicted samples. Use `zero_division` parameter to control this behavior.\n",
      "  _warn_prf(average, modifier, msg_start, len(result))\n",
      "C:\\Users\\user\\anaconda3\\lib\\site-packages\\sklearn\\metrics\\_classification.py:1334: UndefinedMetricWarning: Precision and F-score are ill-defined and being set to 0.0 in labels with no predicted samples. Use `zero_division` parameter to control this behavior.\n",
      "  _warn_prf(average, modifier, msg_start, len(result))\n",
      "C:\\Users\\user\\anaconda3\\lib\\site-packages\\sklearn\\metrics\\_classification.py:1334: UndefinedMetricWarning: Precision and F-score are ill-defined and being set to 0.0 in labels with no predicted samples. Use `zero_division` parameter to control this behavior.\n",
      "  _warn_prf(average, modifier, msg_start, len(result))\n"
     ]
    }
   ],
   "source": [
    "model_rf = make_pipeline(preprocessor, RandomForestClassifier()).fit(x_train, y_train)\n",
    "y_pred_rf = model_svc.predict(x_test)\n",
    "print(classification_report(y_test, y_pred_rf))"
   ]
  },
  {
   "cell_type": "markdown",
   "metadata": {},
   "source": [
    "It seems that Logistic Regression is the best model in this case, so it is used below to predict drug consuming status of the users. The updated dataset with predicted values in the 'drugs' column is saved as 'data_upd'."
   ]
  },
  {
   "cell_type": "code",
   "execution_count": 21,
   "metadata": {},
   "outputs": [
    {
     "name": "stderr",
     "output_type": "stream",
     "text": [
      "C:\\Users\\user\\AppData\\Local\\Temp/ipykernel_8680/2903496967.py:6: SettingWithCopyWarning: \n",
      "A value is trying to be set on a copy of a slice from a DataFrame\n",
      "\n",
      "See the caveats in the documentation: https://pandas.pydata.org/pandas-docs/stable/user_guide/indexing.html#returning-a-view-versus-a-copy\n",
      "  data_upd['drugs'][row] = predicted[i]\n"
     ]
    }
   ],
   "source": [
    "predicted = model_lr.predict(drugs_null.drop(columns='drugs'))\n",
    "data_upd = data.copy()\n",
    "for row in range(len(data_upd)):\n",
    "    i = 0\n",
    "    if data_upd['drugs'][row] not in ['never', 'sometimes', 'often'] :\n",
    "        data_upd['drugs'][row] = predicted[i]\n",
    "        i += 1\n",
    "    else:\n",
    "        pass"
   ]
  },
  {
   "cell_type": "markdown",
   "metadata": {},
   "source": [
    "# Conclusion\n",
    "In this project machine learning was used to predict the drug usage status of OkCupid users. This is an important feature since people prefer to match with someone with similar attitude towards drugs. If users do not input their drug usage status, the algorithm can generate this value to impute missing data when making matches."
   ]
  }
 ],
 "metadata": {
  "kernelspec": {
   "display_name": "Python 3 (ipykernel)",
   "language": "python",
   "name": "python3"
  },
  "language_info": {
   "codemirror_mode": {
    "name": "ipython",
    "version": 3
   },
   "file_extension": ".py",
   "mimetype": "text/x-python",
   "name": "python",
   "nbconvert_exporter": "python",
   "pygments_lexer": "ipython3",
   "version": "3.9.7"
  }
 },
 "nbformat": 4,
 "nbformat_minor": 4
}
